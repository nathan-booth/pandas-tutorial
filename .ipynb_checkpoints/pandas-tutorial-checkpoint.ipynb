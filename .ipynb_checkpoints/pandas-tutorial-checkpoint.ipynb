{
 "cells": [
  {
   "cell_type": "markdown",
   "metadata": {},
   "source": [
    "# Pandas Tutorial"
   ]
  },
  {
   "cell_type": "code",
   "execution_count": 133,
   "metadata": {},
   "outputs": [],
   "source": [
    "import pandas as pd\n",
    "pd.__version__\n",
    "import numpy as np\n",
    "import matplotlib.pyplot as plt\n",
    "import seaborn as sns"
   ]
  },
  {
   "cell_type": "markdown",
   "metadata": {},
   "source": [
    "## What is pandas for?\n",
    "\n",
    "* data cleaning\n",
    "* data exploration\n",
    "* data analysis\n",
    "* with matplotlib, basic data visualization\n",
    "\n",
    "## How do you get data into pandas?\n",
    "* Use built-in"
   ]
  },
  {
   "cell_type": "code",
   "execution_count": 115,
   "metadata": {},
   "outputs": [
    {
     "data": {
      "text/plain": [
       "pandas.core.frame.DataFrame"
      ]
     },
     "execution_count": 115,
     "metadata": {},
     "output_type": "execute_result"
    }
   ],
   "source": [
    "df0 = pd.read_csv('one-on-ones2017.csv', encoding='utf-8')\n",
    "type(d)"
   ]
  },
  {
   "cell_type": "markdown",
   "metadata": {},
   "source": [
    "## How can you view the data?\n",
    "\n",
    "* `df.head()`: view the top rows of data, default is 5\n",
    "* `df.tail()`: view the bottom rows of data, default is 5\n",
    "* `df.sample()`: view a random sample of data\n",
    "* `df.shape`: return the dimensions of the dataframe (tuple, rows x columns)\n",
    "* `df.info()`: view summary data about the dataframe\n",
    "* `df.describe()`: view summary statistics about numerical columns of the dataframe"
   ]
  },
  {
   "cell_type": "code",
   "execution_count": 116,
   "metadata": {},
   "outputs": [
    {
     "data": {
      "text/html": [
       "<div>\n",
       "<style scoped>\n",
       "    .dataframe tbody tr th:only-of-type {\n",
       "        vertical-align: middle;\n",
       "    }\n",
       "\n",
       "    .dataframe tbody tr th {\n",
       "        vertical-align: top;\n",
       "    }\n",
       "\n",
       "    .dataframe thead th {\n",
       "        text-align: right;\n",
       "    }\n",
       "</style>\n",
       "<table border=\"1\" class=\"dataframe\">\n",
       "  <thead>\n",
       "    <tr style=\"text-align: right;\">\n",
       "      <th></th>\n",
       "      <th>Date</th>\n",
       "      <th>Student Email</th>\n",
       "      <th>Length</th>\n",
       "      <th>Result</th>\n",
       "    </tr>\n",
       "  </thead>\n",
       "  <tbody>\n",
       "    <tr>\n",
       "      <th>0</th>\n",
       "      <td>1/2/2017</td>\n",
       "      <td>emcross23@gmail.com</td>\n",
       "      <td>30</td>\n",
       "      <td>Completed</td>\n",
       "    </tr>\n",
       "    <tr>\n",
       "      <th>1</th>\n",
       "      <td>1/3/2017</td>\n",
       "      <td>erikburn13@gmail.ocm</td>\n",
       "      <td>38</td>\n",
       "      <td>Completed</td>\n",
       "    </tr>\n",
       "    <tr>\n",
       "      <th>2</th>\n",
       "      <td>1/5/2017</td>\n",
       "      <td>jt1812@att.com</td>\n",
       "      <td>30</td>\n",
       "      <td>Completed</td>\n",
       "    </tr>\n",
       "    <tr>\n",
       "      <th>3</th>\n",
       "      <td>1/6/2017</td>\n",
       "      <td>1853934397@qq.com</td>\n",
       "      <td>8</td>\n",
       "      <td>No show</td>\n",
       "    </tr>\n",
       "    <tr>\n",
       "      <th>4</th>\n",
       "      <td>1/7/2017</td>\n",
       "      <td>rachel.gants@gmail.com</td>\n",
       "      <td>30</td>\n",
       "      <td>Completed</td>\n",
       "    </tr>\n",
       "  </tbody>\n",
       "</table>\n",
       "</div>"
      ],
      "text/plain": [
       "       Date           Student Email  Length     Result\n",
       "0  1/2/2017     emcross23@gmail.com      30  Completed\n",
       "1  1/3/2017    erikburn13@gmail.ocm      38  Completed\n",
       "2  1/5/2017          jt1812@att.com      30  Completed\n",
       "3  1/6/2017       1853934397@qq.com       8    No show\n",
       "4  1/7/2017  rachel.gants@gmail.com      30  Completed"
      ]
     },
     "execution_count": 116,
     "metadata": {},
     "output_type": "execute_result"
    }
   ],
   "source": [
    "df0.head()"
   ]
  },
  {
   "cell_type": "code",
   "execution_count": 117,
   "metadata": {},
   "outputs": [
    {
     "data": {
      "text/html": [
       "<div>\n",
       "<style scoped>\n",
       "    .dataframe tbody tr th:only-of-type {\n",
       "        vertical-align: middle;\n",
       "    }\n",
       "\n",
       "    .dataframe tbody tr th {\n",
       "        vertical-align: top;\n",
       "    }\n",
       "\n",
       "    .dataframe thead th {\n",
       "        text-align: right;\n",
       "    }\n",
       "</style>\n",
       "<table border=\"1\" class=\"dataframe\">\n",
       "  <thead>\n",
       "    <tr style=\"text-align: right;\">\n",
       "      <th></th>\n",
       "      <th>Date</th>\n",
       "      <th>Student Email</th>\n",
       "      <th>Length</th>\n",
       "      <th>Result</th>\n",
       "    </tr>\n",
       "  </thead>\n",
       "  <tbody>\n",
       "    <tr>\n",
       "      <th>574</th>\n",
       "      <td>8/13/2017</td>\n",
       "      <td>kelly.martin@sbcglobal.net</td>\n",
       "      <td>5</td>\n",
       "      <td>Completed</td>\n",
       "    </tr>\n",
       "    <tr>\n",
       "      <th>5</th>\n",
       "      <td>1/8/2017</td>\n",
       "      <td>pirreraantonella@gmail.com</td>\n",
       "      <td>30</td>\n",
       "      <td>Completed</td>\n",
       "    </tr>\n",
       "    <tr>\n",
       "      <th>96</th>\n",
       "      <td>3/27/2017</td>\n",
       "      <td>terence.yep@gmail.com</td>\n",
       "      <td>16</td>\n",
       "      <td>Completed</td>\n",
       "    </tr>\n",
       "    <tr>\n",
       "      <th>350</th>\n",
       "      <td>6/8/2017</td>\n",
       "      <td>bottbr@gmail.com</td>\n",
       "      <td>30</td>\n",
       "      <td>Completed</td>\n",
       "    </tr>\n",
       "    <tr>\n",
       "      <th>124</th>\n",
       "      <td>4/11/2017</td>\n",
       "      <td>carltaylor@bellsouth.net</td>\n",
       "      <td>11</td>\n",
       "      <td>Completed</td>\n",
       "    </tr>\n",
       "    <tr>\n",
       "      <th>634</th>\n",
       "      <td>8/25/2017</td>\n",
       "      <td>andres.auzunbud@gmail.com</td>\n",
       "      <td>30</td>\n",
       "      <td>Completed</td>\n",
       "    </tr>\n",
       "    <tr>\n",
       "      <th>137</th>\n",
       "      <td>4/17/2017</td>\n",
       "      <td>mhaviv18@gmail.com</td>\n",
       "      <td>30</td>\n",
       "      <td>Completed</td>\n",
       "    </tr>\n",
       "    <tr>\n",
       "      <th>679</th>\n",
       "      <td>9/6/2017</td>\n",
       "      <td>ciaomarian@gmail.com</td>\n",
       "      <td>40</td>\n",
       "      <td>Completed</td>\n",
       "    </tr>\n",
       "    <tr>\n",
       "      <th>621</th>\n",
       "      <td>8/23/2017</td>\n",
       "      <td>ukaluchidinma@gmail.com</td>\n",
       "      <td>35</td>\n",
       "      <td>Completed</td>\n",
       "    </tr>\n",
       "    <tr>\n",
       "      <th>171</th>\n",
       "      <td>5/1/2017</td>\n",
       "      <td>oh518g@att.com</td>\n",
       "      <td>25</td>\n",
       "      <td>Completed</td>\n",
       "    </tr>\n",
       "  </tbody>\n",
       "</table>\n",
       "</div>"
      ],
      "text/plain": [
       "          Date               Student Email  Length     Result\n",
       "574  8/13/2017  kelly.martin@sbcglobal.net       5  Completed\n",
       "5     1/8/2017  pirreraantonella@gmail.com      30  Completed\n",
       "96   3/27/2017       terence.yep@gmail.com      16  Completed\n",
       "350   6/8/2017            bottbr@gmail.com      30  Completed\n",
       "124  4/11/2017    carltaylor@bellsouth.net      11  Completed\n",
       "634  8/25/2017   andres.auzunbud@gmail.com      30  Completed\n",
       "137  4/17/2017          mhaviv18@gmail.com      30  Completed\n",
       "679   9/6/2017        ciaomarian@gmail.com      40  Completed\n",
       "621  8/23/2017     ukaluchidinma@gmail.com      35  Completed\n",
       "171   5/1/2017              oh518g@att.com      25  Completed"
      ]
     },
     "execution_count": 117,
     "metadata": {},
     "output_type": "execute_result"
    }
   ],
   "source": [
    "df0.sample(10)"
   ]
  },
  {
   "cell_type": "code",
   "execution_count": 118,
   "metadata": {},
   "outputs": [
    {
     "name": "stdout",
     "output_type": "stream",
     "text": [
      "<class 'pandas.core.frame.DataFrame'>\n",
      "RangeIndex: 917 entries, 0 to 916\n",
      "Data columns (total 4 columns):\n",
      "Date             917 non-null object\n",
      "Student Email    917 non-null object\n",
      "Length           917 non-null int64\n",
      "Result           917 non-null object\n",
      "dtypes: int64(1), object(3)\n",
      "memory usage: 17.9+ KB\n"
     ]
    }
   ],
   "source": [
    "df0.info()"
   ]
  },
  {
   "cell_type": "code",
   "execution_count": 119,
   "metadata": {},
   "outputs": [
    {
     "data": {
      "text/html": [
       "<div>\n",
       "<style scoped>\n",
       "    .dataframe tbody tr th:only-of-type {\n",
       "        vertical-align: middle;\n",
       "    }\n",
       "\n",
       "    .dataframe tbody tr th {\n",
       "        vertical-align: top;\n",
       "    }\n",
       "\n",
       "    .dataframe thead th {\n",
       "        text-align: right;\n",
       "    }\n",
       "</style>\n",
       "<table border=\"1\" class=\"dataframe\">\n",
       "  <thead>\n",
       "    <tr style=\"text-align: right;\">\n",
       "      <th></th>\n",
       "      <th>Length</th>\n",
       "    </tr>\n",
       "  </thead>\n",
       "  <tbody>\n",
       "    <tr>\n",
       "      <th>count</th>\n",
       "      <td>917.000000</td>\n",
       "    </tr>\n",
       "    <tr>\n",
       "      <th>mean</th>\n",
       "      <td>19.764449</td>\n",
       "    </tr>\n",
       "    <tr>\n",
       "      <th>std</th>\n",
       "      <td>12.604286</td>\n",
       "    </tr>\n",
       "    <tr>\n",
       "      <th>min</th>\n",
       "      <td>0.000000</td>\n",
       "    </tr>\n",
       "    <tr>\n",
       "      <th>25%</th>\n",
       "      <td>10.000000</td>\n",
       "    </tr>\n",
       "    <tr>\n",
       "      <th>50%</th>\n",
       "      <td>23.000000</td>\n",
       "    </tr>\n",
       "    <tr>\n",
       "      <th>75%</th>\n",
       "      <td>30.000000</td>\n",
       "    </tr>\n",
       "    <tr>\n",
       "      <th>max</th>\n",
       "      <td>50.000000</td>\n",
       "    </tr>\n",
       "  </tbody>\n",
       "</table>\n",
       "</div>"
      ],
      "text/plain": [
       "           Length\n",
       "count  917.000000\n",
       "mean    19.764449\n",
       "std     12.604286\n",
       "min      0.000000\n",
       "25%     10.000000\n",
       "50%     23.000000\n",
       "75%     30.000000\n",
       "max     50.000000"
      ]
     },
     "execution_count": 119,
     "metadata": {},
     "output_type": "execute_result"
    }
   ],
   "source": [
    "df0.describe()"
   ]
  },
  {
   "cell_type": "markdown",
   "metadata": {},
   "source": [
    "### Best Practice\n",
    "Always make changes to a copy of the original data, not the original data itself.\n"
   ]
  },
  {
   "cell_type": "code",
   "execution_count": 120,
   "metadata": {},
   "outputs": [
    {
     "name": "stdout",
     "output_type": "stream",
     "text": [
      "Index(['Date', 'Student Email', 'Length', 'Result'], dtype='object')\n"
     ]
    },
    {
     "data": {
      "text/plain": [
       "Index(['date', 'studentemail', 'length', 'result'], dtype='object')"
      ]
     },
     "execution_count": 120,
     "metadata": {},
     "output_type": "execute_result"
    }
   ],
   "source": [
    "df1 = df0.copy()\n",
    "print(df1.columns)\n",
    "df1.columns = [x.lower().replace(\" \", \"\") for x in df1.columns]\n",
    "df1.columns"
   ]
  },
  {
   "cell_type": "markdown",
   "metadata": {},
   "source": [
    "## How do you select data?\n",
    "\n",
    "* by single column: `df['column_name']` or `df.column_name`\n",
    "* rows by indexing: `df[1:3]`\n",
    "* by index label, which when you have an index other than 0 to n: `df.loc[start:stop]`\n",
    "* by position: `df.iloc[start:stop]`\n",
    "* by Boolean indexing: `df[df.col <condition>]`"
   ]
  },
  {
   "cell_type": "code",
   "execution_count": 121,
   "metadata": {},
   "outputs": [
    {
     "data": {
      "text/plain": [
       "0      Completed\n",
       "1      Completed\n",
       "2      Completed\n",
       "3        No show\n",
       "4      Completed\n",
       "5      Completed\n",
       "6      Completed\n",
       "7      Completed\n",
       "8        No show\n",
       "9        No show\n",
       "10     Completed\n",
       "11      Canceled\n",
       "12     Completed\n",
       "13      Canceled\n",
       "14     Completed\n",
       "15      Canceled\n",
       "16     Completed\n",
       "17     Completed\n",
       "18       No show\n",
       "19     Completed\n",
       "20     Completed\n",
       "21     Completed\n",
       "22     Completed\n",
       "23     Completed\n",
       "24     Completed\n",
       "25     Completed\n",
       "26      Canceled\n",
       "27     Completed\n",
       "28     Completed\n",
       "29       No show\n",
       "         ...    \n",
       "887    Completed\n",
       "888    Completed\n",
       "889    Completed\n",
       "890     Canceled\n",
       "891    Completed\n",
       "892    Completed\n",
       "893    Completed\n",
       "894      No show\n",
       "895      No show\n",
       "896    Completed\n",
       "897    Completed\n",
       "898    Completed\n",
       "899     Canceled\n",
       "900      No show\n",
       "901    Completed\n",
       "902    Completed\n",
       "903    Completed\n",
       "904    Completed\n",
       "905      No show\n",
       "906    Completed\n",
       "907    Completed\n",
       "908    Completed\n",
       "909    Completed\n",
       "910    Completed\n",
       "911    Completed\n",
       "912      No show\n",
       "913    Completed\n",
       "914    Completed\n",
       "915      No show\n",
       "916    Completed\n",
       "Name: result, Length: 917, dtype: object"
      ]
     },
     "execution_count": 121,
     "metadata": {},
     "output_type": "execute_result"
    }
   ],
   "source": [
    "df1['result']"
   ]
  },
  {
   "cell_type": "code",
   "execution_count": 122,
   "metadata": {},
   "outputs": [
    {
     "data": {
      "text/plain": [
       "0      Completed\n",
       "1      Completed\n",
       "2      Completed\n",
       "3        No show\n",
       "4      Completed\n",
       "5      Completed\n",
       "6      Completed\n",
       "7      Completed\n",
       "8        No show\n",
       "9        No show\n",
       "10     Completed\n",
       "11      Canceled\n",
       "12     Completed\n",
       "13      Canceled\n",
       "14     Completed\n",
       "15      Canceled\n",
       "16     Completed\n",
       "17     Completed\n",
       "18       No show\n",
       "19     Completed\n",
       "20     Completed\n",
       "21     Completed\n",
       "22     Completed\n",
       "23     Completed\n",
       "24     Completed\n",
       "25     Completed\n",
       "26      Canceled\n",
       "27     Completed\n",
       "28     Completed\n",
       "29       No show\n",
       "         ...    \n",
       "887    Completed\n",
       "888    Completed\n",
       "889    Completed\n",
       "890     Canceled\n",
       "891    Completed\n",
       "892    Completed\n",
       "893    Completed\n",
       "894      No show\n",
       "895      No show\n",
       "896    Completed\n",
       "897    Completed\n",
       "898    Completed\n",
       "899     Canceled\n",
       "900      No show\n",
       "901    Completed\n",
       "902    Completed\n",
       "903    Completed\n",
       "904    Completed\n",
       "905      No show\n",
       "906    Completed\n",
       "907    Completed\n",
       "908    Completed\n",
       "909    Completed\n",
       "910    Completed\n",
       "911    Completed\n",
       "912      No show\n",
       "913    Completed\n",
       "914    Completed\n",
       "915      No show\n",
       "916    Completed\n",
       "Name: result, Length: 917, dtype: object"
      ]
     },
     "execution_count": 122,
     "metadata": {},
     "output_type": "execute_result"
    }
   ],
   "source": [
    "df1.result"
   ]
  },
  {
   "cell_type": "code",
   "execution_count": 123,
   "metadata": {},
   "outputs": [
    {
     "data": {
      "text/html": [
       "<div>\n",
       "<style scoped>\n",
       "    .dataframe tbody tr th:only-of-type {\n",
       "        vertical-align: middle;\n",
       "    }\n",
       "\n",
       "    .dataframe tbody tr th {\n",
       "        vertical-align: top;\n",
       "    }\n",
       "\n",
       "    .dataframe thead th {\n",
       "        text-align: right;\n",
       "    }\n",
       "</style>\n",
       "<table border=\"1\" class=\"dataframe\">\n",
       "  <thead>\n",
       "    <tr style=\"text-align: right;\">\n",
       "      <th></th>\n",
       "      <th>date</th>\n",
       "      <th>studentemail</th>\n",
       "      <th>length</th>\n",
       "      <th>result</th>\n",
       "    </tr>\n",
       "  </thead>\n",
       "  <tbody>\n",
       "    <tr>\n",
       "      <th>100</th>\n",
       "      <td>3/29/2017</td>\n",
       "      <td>silas501@sbcglobal.net</td>\n",
       "      <td>14</td>\n",
       "      <td>Completed</td>\n",
       "    </tr>\n",
       "    <tr>\n",
       "      <th>101</th>\n",
       "      <td>3/29/2017</td>\n",
       "      <td>francois.michon.mtl@gmail.com</td>\n",
       "      <td>43</td>\n",
       "      <td>Completed</td>\n",
       "    </tr>\n",
       "    <tr>\n",
       "      <th>102</th>\n",
       "      <td>3/30/2017</td>\n",
       "      <td>luismigel@hotmail.com</td>\n",
       "      <td>30</td>\n",
       "      <td>Completed</td>\n",
       "    </tr>\n",
       "    <tr>\n",
       "      <th>103</th>\n",
       "      <td>3/31/2017</td>\n",
       "      <td>navalkulkarni@gmail.com</td>\n",
       "      <td>25</td>\n",
       "      <td>Completed</td>\n",
       "    </tr>\n",
       "    <tr>\n",
       "      <th>104</th>\n",
       "      <td>3/31/2017</td>\n",
       "      <td>jsuganya91ece@gmail.com</td>\n",
       "      <td>25</td>\n",
       "      <td>Completed</td>\n",
       "    </tr>\n",
       "    <tr>\n",
       "      <th>105</th>\n",
       "      <td>4/1/2017</td>\n",
       "      <td>londonodaniela@gmail.com</td>\n",
       "      <td>29</td>\n",
       "      <td>Completed</td>\n",
       "    </tr>\n",
       "    <tr>\n",
       "      <th>106</th>\n",
       "      <td>4/2/2017</td>\n",
       "      <td>realstarterv@gmail.com</td>\n",
       "      <td>31</td>\n",
       "      <td>Completed</td>\n",
       "    </tr>\n",
       "    <tr>\n",
       "      <th>107</th>\n",
       "      <td>4/3/2017</td>\n",
       "      <td>sg9148@att.com</td>\n",
       "      <td>29</td>\n",
       "      <td>Completed</td>\n",
       "    </tr>\n",
       "    <tr>\n",
       "      <th>108</th>\n",
       "      <td>4/3/2017</td>\n",
       "      <td>mb1452@att.com</td>\n",
       "      <td>34</td>\n",
       "      <td>Completed</td>\n",
       "    </tr>\n",
       "    <tr>\n",
       "      <th>109</th>\n",
       "      <td>4/4/2017</td>\n",
       "      <td>gvaiciulio@gmail.com</td>\n",
       "      <td>30</td>\n",
       "      <td>Completed</td>\n",
       "    </tr>\n",
       "    <tr>\n",
       "      <th>110</th>\n",
       "      <td>4/4/2017</td>\n",
       "      <td>dg9451@att.com</td>\n",
       "      <td>21</td>\n",
       "      <td>Completed</td>\n",
       "    </tr>\n",
       "    <tr>\n",
       "      <th>111</th>\n",
       "      <td>4/5/2017</td>\n",
       "      <td>londonodaniela@gmail.com</td>\n",
       "      <td>0</td>\n",
       "      <td>Canceled</td>\n",
       "    </tr>\n",
       "    <tr>\n",
       "      <th>112</th>\n",
       "      <td>4/6/2017</td>\n",
       "      <td>eg919y@att.com</td>\n",
       "      <td>14</td>\n",
       "      <td>Completed</td>\n",
       "    </tr>\n",
       "    <tr>\n",
       "      <th>113</th>\n",
       "      <td>4/6/2017</td>\n",
       "      <td>ms5083@att.com</td>\n",
       "      <td>0</td>\n",
       "      <td>No show</td>\n",
       "    </tr>\n",
       "    <tr>\n",
       "      <th>114</th>\n",
       "      <td>4/6/2017</td>\n",
       "      <td>sc136a@att.com</td>\n",
       "      <td>0</td>\n",
       "      <td>No show</td>\n",
       "    </tr>\n",
       "    <tr>\n",
       "      <th>115</th>\n",
       "      <td>4/7/2017</td>\n",
       "      <td>londonodaniela@gmail.com</td>\n",
       "      <td>35</td>\n",
       "      <td>Completed</td>\n",
       "    </tr>\n",
       "    <tr>\n",
       "      <th>116</th>\n",
       "      <td>4/7/2017</td>\n",
       "      <td>jmiller13@gmail.com</td>\n",
       "      <td>0</td>\n",
       "      <td>Canceled</td>\n",
       "    </tr>\n",
       "    <tr>\n",
       "      <th>117</th>\n",
       "      <td>4/7/2017</td>\n",
       "      <td>codynemesis@gmail.com</td>\n",
       "      <td>0</td>\n",
       "      <td>Canceled</td>\n",
       "    </tr>\n",
       "    <tr>\n",
       "      <th>118</th>\n",
       "      <td>4/9/2017</td>\n",
       "      <td>jw1722@att.net</td>\n",
       "      <td>33</td>\n",
       "      <td>Completed</td>\n",
       "    </tr>\n",
       "    <tr>\n",
       "      <th>119</th>\n",
       "      <td>4/9/2017</td>\n",
       "      <td>autismm@live.com</td>\n",
       "      <td>0</td>\n",
       "      <td>No show</td>\n",
       "    </tr>\n",
       "    <tr>\n",
       "      <th>120</th>\n",
       "      <td>4/9/2017</td>\n",
       "      <td>realstarterv@gmail.com</td>\n",
       "      <td>30</td>\n",
       "      <td>Completed</td>\n",
       "    </tr>\n",
       "  </tbody>\n",
       "</table>\n",
       "</div>"
      ],
      "text/plain": [
       "          date                   studentemail  length     result\n",
       "100  3/29/2017         silas501@sbcglobal.net      14  Completed\n",
       "101  3/29/2017  francois.michon.mtl@gmail.com      43  Completed\n",
       "102  3/30/2017          luismigel@hotmail.com      30  Completed\n",
       "103  3/31/2017        navalkulkarni@gmail.com      25  Completed\n",
       "104  3/31/2017        jsuganya91ece@gmail.com      25  Completed\n",
       "105   4/1/2017       londonodaniela@gmail.com      29  Completed\n",
       "106   4/2/2017         realstarterv@gmail.com      31  Completed\n",
       "107   4/3/2017                 sg9148@att.com      29  Completed\n",
       "108   4/3/2017                 mb1452@att.com      34  Completed\n",
       "109   4/4/2017           gvaiciulio@gmail.com      30  Completed\n",
       "110   4/4/2017                 dg9451@att.com      21  Completed\n",
       "111   4/5/2017       londonodaniela@gmail.com       0   Canceled\n",
       "112   4/6/2017                 eg919y@att.com      14  Completed\n",
       "113   4/6/2017                 ms5083@att.com       0    No show\n",
       "114   4/6/2017                 sc136a@att.com       0    No show\n",
       "115   4/7/2017       londonodaniela@gmail.com      35  Completed\n",
       "116   4/7/2017            jmiller13@gmail.com       0   Canceled\n",
       "117   4/7/2017          codynemesis@gmail.com       0   Canceled\n",
       "118   4/9/2017                 jw1722@att.net      33  Completed\n",
       "119   4/9/2017               autismm@live.com       0    No show\n",
       "120   4/9/2017         realstarterv@gmail.com      30  Completed"
      ]
     },
     "execution_count": 123,
     "metadata": {},
     "output_type": "execute_result"
    }
   ],
   "source": [
    "df1[100:121]"
   ]
  },
  {
   "cell_type": "code",
   "execution_count": 124,
   "metadata": {},
   "outputs": [
    {
     "data": {
      "text/plain": [
       "date                         3/29/2017\n",
       "studentemail    silas501@sbcglobal.net\n",
       "length                              14\n",
       "result                       Completed\n",
       "Name: 100, dtype: object"
      ]
     },
     "execution_count": 124,
     "metadata": {},
     "output_type": "execute_result"
    }
   ],
   "source": [
    "df1.iloc[100]"
   ]
  },
  {
   "cell_type": "code",
   "execution_count": 125,
   "metadata": {},
   "outputs": [
    {
     "data": {
      "text/html": [
       "<div>\n",
       "<style scoped>\n",
       "    .dataframe tbody tr th:only-of-type {\n",
       "        vertical-align: middle;\n",
       "    }\n",
       "\n",
       "    .dataframe tbody tr th {\n",
       "        vertical-align: top;\n",
       "    }\n",
       "\n",
       "    .dataframe thead th {\n",
       "        text-align: right;\n",
       "    }\n",
       "</style>\n",
       "<table border=\"1\" class=\"dataframe\">\n",
       "  <thead>\n",
       "    <tr style=\"text-align: right;\">\n",
       "      <th></th>\n",
       "      <th>date</th>\n",
       "      <th>studentemail</th>\n",
       "      <th>length</th>\n",
       "      <th>result</th>\n",
       "    </tr>\n",
       "  </thead>\n",
       "  <tbody>\n",
       "    <tr>\n",
       "      <th>384</th>\n",
       "      <td>6/20/2017</td>\n",
       "      <td>cm3568@gmail.com</td>\n",
       "      <td>47</td>\n",
       "      <td>Completed</td>\n",
       "    </tr>\n",
       "    <tr>\n",
       "      <th>706</th>\n",
       "      <td>9/13/2017</td>\n",
       "      <td>mrlowe317@gmail.com</td>\n",
       "      <td>46</td>\n",
       "      <td>Completed</td>\n",
       "    </tr>\n",
       "    <tr>\n",
       "      <th>892</th>\n",
       "      <td>11/13/2017</td>\n",
       "      <td>gibranhasan14@gmail.com</td>\n",
       "      <td>47</td>\n",
       "      <td>Completed</td>\n",
       "    </tr>\n",
       "    <tr>\n",
       "      <th>893</th>\n",
       "      <td>11/13/2017</td>\n",
       "      <td>ceilimcgeever@gmail.com</td>\n",
       "      <td>47</td>\n",
       "      <td>Completed</td>\n",
       "    </tr>\n",
       "    <tr>\n",
       "      <th>914</th>\n",
       "      <td>11/28/2017</td>\n",
       "      <td>j@jackiemjensen.com</td>\n",
       "      <td>50</td>\n",
       "      <td>Completed</td>\n",
       "    </tr>\n",
       "  </tbody>\n",
       "</table>\n",
       "</div>"
      ],
      "text/plain": [
       "           date             studentemail  length     result\n",
       "384   6/20/2017         cm3568@gmail.com      47  Completed\n",
       "706   9/13/2017      mrlowe317@gmail.com      46  Completed\n",
       "892  11/13/2017  gibranhasan14@gmail.com      47  Completed\n",
       "893  11/13/2017  ceilimcgeever@gmail.com      47  Completed\n",
       "914  11/28/2017      j@jackiemjensen.com      50  Completed"
      ]
     },
     "execution_count": 125,
     "metadata": {},
     "output_type": "execute_result"
    }
   ],
   "source": [
    "df1[df1.length > 45]"
   ]
  },
  {
   "cell_type": "code",
   "execution_count": 126,
   "metadata": {},
   "outputs": [
    {
     "name": "stdout",
     "output_type": "stream",
     "text": [
      "<class 'pandas.core.frame.DataFrame'>\n",
      "RangeIndex: 917 entries, 0 to 916\n",
      "Data columns (total 4 columns):\n",
      "date            917 non-null object\n",
      "studentemail    917 non-null object\n",
      "length          917 non-null int64\n",
      "result          917 non-null category\n",
      "dtypes: category(1), int64(1), object(2)\n",
      "memory usage: 15.3+ KB\n"
     ]
    }
   ],
   "source": [
    "df1['result'] = df1.result.astype('category')\n",
    "df1.info()"
   ]
  },
  {
   "cell_type": "code",
   "execution_count": 127,
   "metadata": {},
   "outputs": [
    {
     "data": {
      "text/plain": [
       "count           917\n",
       "unique            3\n",
       "top       Completed\n",
       "freq            668\n",
       "Name: result, dtype: object"
      ]
     },
     "execution_count": 127,
     "metadata": {},
     "output_type": "execute_result"
    }
   ],
   "source": [
    "df1['result'].describe()"
   ]
  },
  {
   "cell_type": "code",
   "execution_count": 128,
   "metadata": {},
   "outputs": [
    {
     "data": {
      "text/plain": [
       "result\n",
       "Canceled     141\n",
       "Completed    668\n",
       "No show      108\n",
       "dtype: int64"
      ]
     },
     "execution_count": 128,
     "metadata": {},
     "output_type": "execute_result"
    }
   ],
   "source": [
    "df2 = df1.groupby('result').size()\n",
    "df2"
   ]
  },
  {
   "cell_type": "code",
   "execution_count": 141,
   "metadata": {},
   "outputs": [
    {
     "data": {
      "text/plain": [
       "<matplotlib.axes._subplots.AxesSubplot at 0x1ef51830>"
      ]
     },
     "execution_count": 141,
     "metadata": {},
     "output_type": "execute_result"
    },
    {
     "data": {
      "image/png": "[encoded data removed]",
      "text/plain": [
       "<Figure size 432x288 with 1 Axes>"
      ]
     },
     "metadata": {},
     "output_type": "display_data"
    }
   ],
   "source": [
    "df1['length'].hist(bins=20)"
   ]
  },
  {
   "cell_type": "code",
   "execution_count": 135,
   "metadata": {},
   "outputs": [
    {
     "name": "stderr",
     "output_type": "stream",
     "text": [
      "c:\\users\\nathan\\appdata\\local\\programs\\python\\python37-32\\lib\\site-packages\\scipy\\stats\\stats.py:1713: FutureWarning: Using a non-tuple sequence for multidimensional indexing is deprecated; use `arr[tuple(seq)]` instead of `arr[seq]`. In the future this will be interpreted as an array index, `arr[np.array(seq)]`, which will result either in an error or a different result.\n",
      "  return np.add.reduce(sorted[indexer] * weights, axis=axis) / sumval\n"
     ]
    },
    {
     "data": {
      "image/png": "[encoded data removed]",
      "text/plain": [
       "<Figure size 432x288 with 1 Axes>"
      ]
     },
     "metadata": {},
     "output_type": "display_data"
    }
   ],
   "source": [
    "sns.distplot(df1['length'], kde=False)\n",
    "plt.show()"
   ]
  },
  {
   "cell_type": "code",
   "execution_count": 144,
   "metadata": {},
   "outputs": [
    {
     "name": "stderr",
     "output_type": "stream",
     "text": [
      "c:\\users\\nathan\\appdata\\local\\programs\\python\\python37-32\\lib\\site-packages\\scipy\\stats\\stats.py:1713: FutureWarning: Using a non-tuple sequence for multidimensional indexing is deprecated; use `arr[tuple(seq)]` instead of `arr[seq]`. In the future this will be interpreted as an array index, `arr[np.array(seq)]`, which will result either in an error or a different result.\n",
      "  return np.add.reduce(sorted[indexer] * weights, axis=axis) / sumval\n"
     ]
    },
    {
     "data": {
      "text/plain": [
       "<matplotlib.axes._subplots.AxesSubplot at 0x1f0905f0>"
      ]
     },
     "execution_count": 144,
     "metadata": {},
     "output_type": "execute_result"
    },
    {
     "data": {
      "image/png": "[encoded data removed]",
      "text/plain": [
       "<Figure size 432x288 with 1 Axes>"
      ]
     },
     "metadata": {},
     "output_type": "display_data"
    }
   ],
   "source": [
    "sns.barplot(x = 'result', y = 'length', data=df1)"
   ]
  },
  {
   "cell_type": "code",
   "execution_count": null,
   "metadata": {},
   "outputs": [],
   "source": []
  }
 ],
 "metadata": {
  "kernelspec": {
   "display_name": "Python 3",
   "language": "python",
   "name": "python3"
  },
  "language_info": {
   "codemirror_mode": {
    "name": "ipython",
    "version": 3
   },
   "file_extension": ".py",
   "mimetype": "text/x-python",
   "name": "python",
   "nbconvert_exporter": "python",
   "pygments_lexer": "ipython3",
   "version": "3.7.0"
  }
 },
 "nbformat": 4,
 "nbformat_minor": 2
}
